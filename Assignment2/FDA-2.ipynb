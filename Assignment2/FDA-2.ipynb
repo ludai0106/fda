{
 "cells": [
  {
   "cell_type": "code",
   "execution_count": 90,
   "metadata": {
    "collapsed": true
   },
   "outputs": [],
   "source": [
    "%matplotlib inline"
   ]
  },
  {
   "cell_type": "code",
   "execution_count": 91,
   "metadata": {
    "collapsed": false
   },
   "outputs": [],
   "source": [
    "import numpy as np\n",
    "import pylab\n",
    "import pandas\n",
    "from scipy.spatial.distance import euclidean\n",
    "from collections import OrderedDict\n",
    "from sklearn.neighbors import KNeighborsClassifier\n",
    "from sklearn.neighbors import NearestNeighbors, KNeighborsRegressor\n",
    "\n",
    "import matplotlib as mpl\n",
    "import matplotlib.pyplot as plt\n",
    "\n",
    "SAMPLE_COUNT = 1000\n",
    "DIMENSIONS = 1, 2, 4, 8, 16, 32"
   ]
  },
  {
   "cell_type": "code",
   "execution_count": 92,
   "metadata": {
    "collapsed": true
   },
   "outputs": [],
   "source": [
    "# Generate Samples\n",
    "SAMPLES = OrderedDict()\n",
    "for p in DIMENSIONS:\n",
    "    SAMPLES[p] = [np.random.random(p) for i in xrange(SAMPLE_COUNT)]"
   ]
  },
  {
   "cell_type": "code",
   "execution_count": 93,
   "metadata": {
    "collapsed": false
   },
   "outputs": [
    {
     "name": "stdout",
     "output_type": "stream",
     "text": [
      "0.379295403237 0.999835368054\n",
      "0.262432071316 0.960405581637\n",
      "0.165476545328 0.829644181314\n",
      "0.102093638917 0.562151952908\n",
      "0.0570666659292 0.313014962181\n",
      "0.0169490136103 0.118842824299\n"
     ]
    }
   ],
   "source": [
    "# Calculate Y values\n",
    "A_VAL = 0.97\n",
    "Y_VALUES = OrderedDict()\n",
    "for p in DIMENSIONS:\n",
    "    Y_VALUES[p] = []\n",
    "    zero_array = np.zeros(p, dtype=np.float)\n",
    "    for i in xrange(SAMPLE_COUNT):\n",
    "        e_dist = euclidean(SAMPLES[p][i], zero_array)\n",
    "        y_val = np.exp((-A_VAL) * e_dist)\n",
    "        Y_VALUES[p].append(y_val)\n",
    "    \n",
    "#     break\n",
    "print min(Y_VALUES[1]), max(Y_VALUES[1])\n",
    "print min(Y_VALUES[2]), max(Y_VALUES[2])\n",
    "print min(Y_VALUES[4]), max(Y_VALUES[4])\n",
    "print min(Y_VALUES[8]), max(Y_VALUES[8])\n",
    "print min(Y_VALUES[16]), max(Y_VALUES[16])\n",
    "print min(Y_VALUES[32]), max(Y_VALUES[32])"
   ]
  },
  {
   "cell_type": "code",
   "execution_count": 109,
   "metadata": {
    "collapsed": false
   },
   "outputs": [
    {
     "data": {
      "image/png": "[encoded data removed]",
      "text/plain": [
       "<matplotlib.figure.Figure at 0x118f04b90>"
      ]
     },
     "metadata": {},
     "output_type": "display_data"
    }
   ],
   "source": [
    "PREDICT_VALS = {}\n",
    "for p in DIMENSIONS:\n",
    "    nn = KNeighborsRegressor(n_neighbors=1,)\n",
    "    nn.fit(SAMPLES[p], Y_VALUES[p])\n",
    "    dir(nn)\n",
    "    PREDICT_VALS[p] = nn.predict([np.zeros(p)])\n",
    "ERRORS = {p:1-y for p,y in PREDICT_VALS.items()}\n",
    "ERROR = ERRORS[1][0]\n",
    "df= pandas.DataFrame([[k,v[0]] for k,v in PREDICT_VALS.items()], columns=[\"Dimensions p\", \"Y0\"])\n",
    "import seaborn as sns; sns.set(color_codes=True)\n",
    "ax = sns.regplot(x=\"Dimensions p\", y=\"Y0\", data=df, x_estimator=np.mean, logx=True, truncate=True)"
   ]
  },
  {
   "cell_type": "code",
   "execution_count": 133,
   "metadata": {
    "collapsed": false
   },
   "outputs": [
    {
     "name": "stdout",
     "output_type": "stream",
     "text": [
      "(1, 18, array([ 0.0023224]))\n",
      "(2, 54, array([ 0.02312087]))\n"
     ]
    },
    {
     "ename": "KeyboardInterrupt",
     "evalue": "",
     "output_type": "error",
     "traceback": [
      "\u001b[0;31m---------------------------------------------------------------------------\u001b[0m",
      "\u001b[0;31mKeyboardInterrupt\u001b[0m                         Traceback (most recent call last)",
      "\u001b[0;32m<ipython-input-133-29722c7cb02e>\u001b[0m in \u001b[0;36m<module>\u001b[0;34m()\u001b[0m\n\u001b[1;32m     10\u001b[0m             \u001b[0;32mbreak\u001b[0m\u001b[0;34m\u001b[0m\u001b[0m\n\u001b[1;32m     11\u001b[0m         \u001b[0mcount\u001b[0m \u001b[0;34m+=\u001b[0m \u001b[0;36m2\u001b[0m\u001b[0;34m**\u001b[0m\u001b[0mp\u001b[0m\u001b[0;34m\u001b[0m\u001b[0m\n\u001b[0;32m---> 12\u001b[0;31m         \u001b[0msamples\u001b[0m \u001b[0;34m=\u001b[0m \u001b[0;34m[\u001b[0m\u001b[0mnp\u001b[0m\u001b[0;34m.\u001b[0m\u001b[0mrandom\u001b[0m\u001b[0;34m.\u001b[0m\u001b[0mrandom\u001b[0m\u001b[0;34m(\u001b[0m\u001b[0mp\u001b[0m\u001b[0;34m)\u001b[0m \u001b[0;32mfor\u001b[0m \u001b[0mi\u001b[0m \u001b[0;32min\u001b[0m \u001b[0mxrange\u001b[0m\u001b[0;34m(\u001b[0m\u001b[0mcount\u001b[0m\u001b[0;34m)\u001b[0m\u001b[0;34m]\u001b[0m\u001b[0;34m\u001b[0m\u001b[0m\n\u001b[0m\u001b[1;32m     13\u001b[0m         \u001b[0my_values\u001b[0m \u001b[0;34m=\u001b[0m \u001b[0;34m[\u001b[0m\u001b[0;34m]\u001b[0m\u001b[0;34m\u001b[0m\u001b[0m\n\u001b[1;32m     14\u001b[0m         \u001b[0;32mfor\u001b[0m \u001b[0mi\u001b[0m \u001b[0;32min\u001b[0m \u001b[0mxrange\u001b[0m\u001b[0;34m(\u001b[0m\u001b[0mcount\u001b[0m\u001b[0;34m)\u001b[0m\u001b[0;34m:\u001b[0m\u001b[0;34m\u001b[0m\u001b[0m\n",
      "\u001b[0;31mKeyboardInterrupt\u001b[0m: "
     ]
    }
   ],
   "source": [
    "err = 1\n",
    "err_1_100 = 0.02676521\n",
    "SIM_100 = {}\n",
    "for p in 1,2,4,8,16,32:\n",
    "    zero_array = np.zeros(p, dtype=np.float)\n",
    "    count = 10\n",
    "    err = 1\n",
    "    while err > err_1_100:\n",
    "        if count > 100000:\n",
    "            break\n",
    "        count += 2**p\n",
    "        samples = [np.random.random(p) for i in xrange(count)]\n",
    "        y_values = []\n",
    "        for i in xrange(count):\n",
    "            e_dist = euclidean(samples[i], zero_array)\n",
    "            y_val = np.exp((-A_VAL) * e_dist)\n",
    "            y_values.append(y_val)\n",
    "\n",
    "        nn = KNeighborsRegressor(n_neighbors=1,)\n",
    "        nn.fit(samples, y_values)\n",
    "        predict_val = nn.predict([np.zeros(p)])\n",
    "        err = 1- predict_val\n",
    "        SIM_100[p] = count\n",
    "    print(p, count, err)"
   ]
  },
  {
   "cell_type": "code",
   "execution_count": null,
   "metadata": {
    "collapsed": true
   },
   "outputs": [],
   "source": []
  }
 ],
 "metadata": {
  "kernelspec": {
   "display_name": "Python 2",
   "language": "python",
   "name": "python2"
  },
  "language_info": {
   "codemirror_mode": {
    "name": "ipython",
    "version": 2
   },
   "file_extension": ".py",
   "mimetype": "text/x-python",
   "name": "python",
   "nbconvert_exporter": "python",
   "pygments_lexer": "ipython2",
   "version": "2.7.11"
  }
 },
 "nbformat": 4,
 "nbformat_minor": 0
}
