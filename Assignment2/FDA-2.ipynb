{
 "cells": [
  {
   "cell_type": "code",
   "execution_count": 169,
   "metadata": {
    "collapsed": false
   },
   "outputs": [],
   "source": [
    "%matplotlib inline"
   ]
  },
  {
   "cell_type": "code",
   "execution_count": 170,
   "metadata": {
    "collapsed": false
   },
   "outputs": [],
   "source": [
    "import numpy as np\n",
    "import pylab\n",
    "import pandas\n",
    "from scipy.spatial.distance import euclidean\n",
    "from collections import OrderedDict\n",
    "from sklearn.neighbors import KNeighborsClassifier\n",
    "from sklearn.neighbors import NearestNeighbors, KNeighborsRegressor\n",
    "\n",
    "import matplotlib as mpl\n",
    "import matplotlib.pyplot as plt\n",
    "\n",
    "SAMPLE_COUNT = 1000\n",
    "DIMENSIONS = 1, 2, 4, 8, 16, 32"
   ]
  },
  {
   "cell_type": "code",
   "execution_count": 171,
   "metadata": {
    "collapsed": true
   },
   "outputs": [],
   "source": [
    "# Generate Samples\n",
    "SAMPLES = OrderedDict()\n",
    "for p in DIMENSIONS:\n",
    "    SAMPLES[p] = [np.random.random(p) for i in xrange(SAMPLE_COUNT)]"
   ]
  },
  {
   "cell_type": "code",
   "execution_count": 172,
   "metadata": {
    "collapsed": false
   },
   "outputs": [
    {
     "name": "stdout",
     "output_type": "stream",
     "text": [
      "0.606680836654 0.99966411648\n",
      "0.495562438737 0.966475115784\n",
      "0.405331785207 0.872090822784\n",
      "0.31522372143 0.685973741424\n",
      "0.212535394675 0.510095324062\n",
      "0.134389738097 0.300508605831\n"
     ]
    }
   ],
   "source": [
    "# Calculate Y values\n",
    "A_VAL = 0.5\n",
    "Y_VALUES = OrderedDict()\n",
    "for p in DIMENSIONS:\n",
    "    Y_VALUES[p] = []\n",
    "    zero_array = np.zeros(p, dtype=np.float)\n",
    "    for i in xrange(SAMPLE_COUNT):\n",
    "        e_dist = euclidean(SAMPLES[p][i], zero_array)\n",
    "        y_val = np.exp((-A_VAL) * e_dist)\n",
    "        Y_VALUES[p].append(y_val)\n",
    "    \n",
    "#     break\n",
    "print min(Y_VALUES[1]), max(Y_VALUES[1])\n",
    "print min(Y_VALUES[2]), max(Y_VALUES[2])\n",
    "print min(Y_VALUES[4]), max(Y_VALUES[4])\n",
    "print min(Y_VALUES[8]), max(Y_VALUES[8])\n",
    "print min(Y_VALUES[16]), max(Y_VALUES[16])\n",
    "print min(Y_VALUES[32]), max(Y_VALUES[32])"
   ]
  },
  {
   "cell_type": "code",
   "execution_count": 173,
   "metadata": {
    "collapsed": false
   },
   "outputs": [
    {
     "data": {
      "image/png": "[encoded data removed]",
      "text/plain": [
       "<matplotlib.figure.Figure at 0x11981df90>"
      ]
     },
     "metadata": {},
     "output_type": "display_data"
    }
   ],
   "source": [
    "PREDICT_VALS = {}\n",
    "for p in DIMENSIONS:\n",
    "    nn = KNeighborsRegressor(n_neighbors=1,)\n",
    "    nn.fit(SAMPLES[p], Y_VALUES[p])\n",
    "    dir(nn)\n",
    "    PREDICT_VALS[p] = nn.predict([np.zeros(p)])\n",
    "ERRORS = {p:1-y for p,y in PREDICT_VALS.items()}\n",
    "ERROR = ERRORS[1][0]\n",
    "df= pandas.DataFrame([[k,v[0]] for k,v in PREDICT_VALS.items()], columns=[\"Dimensions p\", \"Y0\"])\n",
    "import seaborn as sns; sns.set(color_codes=True)\n",
    "ax = sns.regplot(x=\"Dimensions p\", y=\"Y0\", data=df, x_estimator=np.mean, logx=True, truncate=True)"
   ]
  },
  {
   "cell_type": "code",
   "execution_count": 174,
   "metadata": {
    "collapsed": false
   },
   "outputs": [
    {
     "ename": "NameError",
     "evalue": "name 'dim_1' is not defined",
     "output_type": "error",
     "traceback": [
      "\u001b[0;31m---------------------------------------------------------------------------\u001b[0m",
      "\u001b[0;31mNameError\u001b[0m                                 Traceback (most recent call last)",
      "\u001b[0;32m<ipython-input-174-c4f944340c58>\u001b[0m in \u001b[0;36m<module>\u001b[0;34m()\u001b[0m\n\u001b[1;32m     12\u001b[0m \u001b[0;31m# predict_val_1 = nn.predict([np.zeros(dim_1)])\u001b[0m\u001b[0;34m\u001b[0m\u001b[0;34m\u001b[0m\u001b[0m\n\u001b[1;32m     13\u001b[0m \u001b[0;31m# err_1 = 1- predict_val_1\u001b[0m\u001b[0;34m\u001b[0m\u001b[0;34m\u001b[0m\u001b[0m\n\u001b[0;32m---> 14\u001b[0;31m \u001b[0;32mprint\u001b[0m\u001b[0;34m(\u001b[0m\u001b[0mdim_1\u001b[0m\u001b[0;34m,\u001b[0m \u001b[0mcount_1\u001b[0m\u001b[0;34m,\u001b[0m \u001b[0merr_1\u001b[0m\u001b[0;34m)\u001b[0m\u001b[0;34m\u001b[0m\u001b[0m\n\u001b[0m",
      "\u001b[0;31mNameError\u001b[0m: name 'dim_1' is not defined"
     ]
    }
   ],
   "source": [
    "# dim_1 = 1\n",
    "# count_1 = 10\n",
    "# samples_1 = [np.random.random(dim_1) for i in xrange(count_1)]\n",
    "# y_values_1 = []\n",
    "# zero_array_1 = np.zeros(dim_1, dtype=np.float)\n",
    "# for i in range(count_1):    \n",
    "#     e_dist = euclidean(samples_1[i], zero_array_1)\n",
    "#     y_val = np.exp((-A_VAL) * e_dist)\n",
    "#     y_values_1.append(y_val)\n",
    "# nn = KNeighborsRegressor(n_neighbors=1,)\n",
    "# nn.fit(samples_1, y_values_1)\n",
    "# predict_val_1 = nn.predict([np.zeros(dim_1)])\n",
    "# err_1 = 1- predict_val_1\n",
    "#print(dim_1, count_1, err_1)"
   ]
  },
  {
   "cell_type": "code",
   "execution_count": null,
   "metadata": {
    "collapsed": false
   },
   "outputs": [
    {
     "name": "stdout",
     "output_type": "stream",
     "text": [
      "(1, 5, array([ 0.03837018]))\n",
      "(1, 5, array([ 0.03837018]))\n",
      "(2, 25, array([ 0.10200912]))\n",
      "(2, 25, array([ 0.10200912]))\n",
      "(4, 625, array([ 0.07613208]))\n",
      "(4, 625, array([ 0.07613208]))\n",
      "(8, 390625, array([ 0.13318488]))\n",
      "(8, 390625, array([ 0.13318488]))\n"
     ]
    }
   ],
   "source": [
    "from math import pow;\n",
    "err = 1\n",
    "err_std = 0.1\n",
    "j=0\n",
    "SIM = {}\n",
    "increase = [1,2,4,100,1000,10000]\n",
    "for p in 1,2,4,8,16,32:\n",
    "    zero_array = np.zeros(p, dtype=np.float)\n",
    "    sample_size = int(pow(5,p))\n",
    "    #err = 1\n",
    "    #while err > err_std:\n",
    "        #sample_size+=increase[j]\n",
    "    samples = [np.random.random(p) for i in xrange(sample_size)]\n",
    "    y_values = []\n",
    "    for i in xrange(sample_size):\n",
    "        e_dist = euclidean(samples[i], zero_array)\n",
    "        y_val = np.exp((-A_VAL) * e_dist)\n",
    "        y_values.append(y_val)\n",
    "    nn = KNeighborsRegressor(n_neighbors=1,)\n",
    "    nn.fit(samples, y_values)\n",
    "    predict_val = nn.predict([np.zeros(p)])\n",
    "    err = 1- predict_val\n",
    "    SIM[p] = sample_size\n",
    "    print(p, sample_size, err)\n",
    "    #j+=1\n",
    "    print(p, sample_size, err)"
   ]
  },
  {
   "cell_type": "code",
   "execution_count": null,
   "metadata": {
    "collapsed": true
   },
   "outputs": [],
   "source": []
  },
  {
   "cell_type": "code",
   "execution_count": null,
   "metadata": {
    "collapsed": true
   },
   "outputs": [],
   "source": []
  }
 ],
 "metadata": {
  "kernelspec": {
   "display_name": "Python 2",
   "language": "python",
   "name": "python2"
  },
  "language_info": {
   "codemirror_mode": {
    "name": "ipython",
    "version": 2
   },
   "file_extension": ".py",
   "mimetype": "text/x-python",
   "name": "python",
   "nbconvert_exporter": "python",
   "pygments_lexer": "ipython2",
   "version": "2.7.11"
  }
 },
 "nbformat": 4,
 "nbformat_minor": 0
}
