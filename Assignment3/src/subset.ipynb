{
 "cells": [
  {
   "cell_type": "code",
   "execution_count": 1,
   "metadata": {
    "collapsed": false
   },
   "outputs": [
    {
     "name": "stderr",
     "output_type": "stream",
     "text": [
      "/Users/ludai/anaconda/lib/python2.7/site-packages/matplotlib/font_manager.py:273: UserWarning: Matplotlib is building the font cache using fc-list. This may take a moment.\n",
      "  warnings.warn('Matplotlib is building the font cache using fc-list. This may take a moment.')\n"
     ]
    }
   ],
   "source": [
    "from sklearn.neighbors import NearestNeighbors\n",
    "import numpy as np\n",
    "import csv\n",
    "import pandas as pd\n",
    "import matplotlib.pyplot as plt\n",
    "train_path = \"/Users/ludai/Desktop/Study/Q4/Fundamentals of Data Analytics/dataset/train.csv\"\n",
    "#test_path = \"/Users/ludai/Desktop/Study/Q4/Fundamentals of Data Analytics/dataset/.csv\""
   ]
  },
  {
   "cell_type": "code",
   "execution_count": 2,
   "metadata": {
    "collapsed": false
   },
   "outputs": [
    {
     "name": "stdout",
     "output_type": "stream",
     "text": [
      "(29118021, 5)\n",
      "             x       y  accuracy    time    place_id\n",
      "row_id                                              \n",
      "0       0.7941  9.0809        54  470702  8523065625\n",
      "1       5.9567  4.7968        13  186555  1757726713\n",
      "2       8.3078  7.0407        74  322648  1137537235\n",
      "(3, 5)\n"
     ]
    }
   ],
   "source": [
    "train = pd.read_csv(train_path, usecols=['row_id','x','y','accuracy','time','place_id'], index_col = 0)\n",
    "#test = pd.read_csv(test_path, usecols=['row_id','x','y','time'], index_col = 0)\n",
    "print np.shape(train)\n",
    "#print np.shape(test)\n",
    "print train[:3]\n",
    "#print test[:3]\n",
    "print np.shape(train[:3])"
   ]
  },
  {
   "cell_type": "code",
   "execution_count": 4,
   "metadata": {
    "collapsed": false
   },
   "outputs": [
    {
     "name": "stdout",
     "output_type": "stream",
     "text": [
      "3.33113452392 4.18062507424\n",
      "3.3312 5.3311 4.1807 6.1806 (1191021, 5)\n",
      "3.3312 5.3311 4.1807 6.1806 (1000000, 5)\n",
      "0.32418450175 4.56941031087\n",
      "0.3242 2.3241 4.5695 6.5694 (1137001, 5)\n",
      "0.3242 2.3241 4.5695 6.5694 (1000000, 5)\n",
      "3.88308140216 5.23588026138\n",
      "3.8831 5.883 5.2359 7.2358 (1188294, 5)\n",
      "3.8831 5.883 5.2359 7.2358 (1000000, 5)\n",
      "1.39487257763 5.62353556456\n",
      "1.3949 3.3948 5.6236 7.6235 (1154260, 5)\n",
      "1.3949 3.3948 5.6236 7.6235 (1000000, 5)\n",
      "2.09836437185 5.67581381868\n",
      "2.0984 4.0983 5.6759 7.6758 (1135905, 5)\n",
      "2.0984 4.0983 5.6759 7.6758 (1000000, 5)\n",
      "5.03999029629 1.81056073609\n",
      "5.04 7.0399 1.8106 3.8105 (1147132, 5)\n",
      "5.04 7.0399 1.8106 3.8105 (1000000, 5)\n",
      "5.45683872398 3.17624355712\n",
      "5.4569 7.4568 3.1763 5.1762 (1184279, 5)\n",
      "5.4569 7.4568 3.1763 5.1762 (1000000, 5)\n",
      "3.14898720797 6.02124831242\n",
      "3.149 5.1489 6.0213 8.0212 (1156277, 5)\n",
      "3.149 5.1489 6.0213 8.0212 (1000000, 5)\n",
      "1.09739857956 3.33914800586\n",
      "1.0974 3.0973 3.3392 5.3391 (1163769, 5)\n",
      "1.0974 3.0973 3.3392 5.3391 (1000000, 5)\n"
     ]
    }
   ],
   "source": [
    "# randomly blocks 2km * 2km\n",
    "t=0\n",
    "block_size = 2.0\n",
    "for i in range(9):\n",
    "    x_loc = np.random.uniform(0,7)\n",
    "    y_loc = np.random.uniform(0,7)\n",
    "    print x_loc, y_loc\n",
    "    subset = train[(train['x'] >=x_loc )&(train['x']<(x_loc+block_size)) & (train['y']>=y_loc)&(train['y']<(y_loc+block_size))]\n",
    "    print np.min(subset['x']), np.max(subset['x']),np.min(subset['y']), np.max(subset['y']), np.shape(subset)\n",
    "    subset_sample = subset.sample(n=1000000)\n",
    "    print np.min(subset_sample['x']), np.max(subset_sample['x']),np.min(subset_sample['y']), np.max(subset_sample['y']), np.shape(subset_sample)\n",
    "    string = 'subset%s.csv' % i\n",
    "    t+=1\n",
    "    subset.to_csv(string)"
   ]
  },
  {
   "cell_type": "code",
   "execution_count": 7,
   "metadata": {
    "collapsed": true
   },
   "outputs": [],
   "source": [
    "place  = train['place_id'].value_counts()"
   ]
  },
  {
   "cell_type": "code",
   "execution_count": 5,
   "metadata": {
    "collapsed": false
   },
   "outputs": [
    {
     "name": "stdout",
     "output_type": "stream",
     "text": [
      "1 1033\n",
      "65      1212970\n",
      "66       623391\n",
      "64       618559\n",
      "67       605218\n",
      "63       601226\n",
      "68       580823\n",
      "62       576806\n",
      "10       561614\n",
      "69       547914\n",
      "61       544468\n",
      "70       511351\n",
      "60       508280\n",
      "71       468111\n",
      "59       467502\n",
      "72       425790\n",
      "58       424346\n",
      "5        416462\n",
      "57       383197\n",
      "73       380866\n",
      "9        353101\n",
      "8        347049\n",
      "11       342834\n",
      "56       341991\n",
      "7        338720\n",
      "74       337588\n",
      "12       334621\n",
      "6        328458\n",
      "13       319881\n",
      "14       304222\n",
      "55       300422\n",
      "         ...   \n",
      "995         736\n",
      "997         708\n",
      "998         664\n",
      "999         567\n",
      "1000        493\n",
      "1001        446\n",
      "1002        386\n",
      "1003        354\n",
      "1004        294\n",
      "1005        272\n",
      "1006        226\n",
      "1007        166\n",
      "1008        149\n",
      "1009        115\n",
      "1010         93\n",
      "1011         80\n",
      "1012         69\n",
      "1013         60\n",
      "1015         27\n",
      "1014         23\n",
      "1016         22\n",
      "1018         18\n",
      "1017         17\n",
      "1020          7\n",
      "1021          6\n",
      "1022          6\n",
      "1019          5\n",
      "1028          1\n",
      "1029          1\n",
      "1033          1\n",
      "Name: accuracy, dtype: int64\n"
     ]
    }
   ],
   "source": [
    "accuracy = train['accuracy'].value_counts()\n",
    "print np.min(train['accuracy']), np.max(train['accuracy'])\n",
    "print accuracy"
   ]
  },
  {
   "cell_type": "code",
   "execution_count": null,
   "metadata": {
    "collapsed": true
   },
   "outputs": [],
   "source": []
  }
 ],
 "metadata": {
  "kernelspec": {
   "display_name": "Python 2",
   "language": "python",
   "name": "python2"
  },
  "language_info": {
   "codemirror_mode": {
    "name": "ipython",
    "version": 2
   },
   "file_extension": ".py",
   "mimetype": "text/x-python",
   "name": "python",
   "nbconvert_exporter": "python",
   "pygments_lexer": "ipython2",
   "version": "2.7.11"
  }
 },
 "nbformat": 4,
 "nbformat_minor": 0
}
