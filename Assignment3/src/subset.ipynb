{
 "cells": [
  {
   "cell_type": "code",
   "execution_count": 1,
   "metadata": {
    "collapsed": false
   },
   "outputs": [
    {
     "name": "stderr",
     "output_type": "stream",
     "text": [
      "/Users/ludai/anaconda/lib/python2.7/site-packages/matplotlib/font_manager.py:273: UserWarning: Matplotlib is building the font cache using fc-list. This may take a moment.\n",
      "  warnings.warn('Matplotlib is building the font cache using fc-list. This may take a moment.')\n"
     ]
    }
   ],
   "source": [
    "from sklearn.neighbors import NearestNeighbors\n",
    "import numpy as np\n",
    "import csv\n",
    "import pandas as pd\n",
    "import matplotlib.pyplot as plt\n",
    "train_path = \"/Users/ludai/Desktop/Study/Q4/Fundamentals of Data Analytics/dataset/train.csv\"\n",
    "#test_path = \"/Users/ludai/Desktop/Study/Q4/Fundamentals of Data Analytics/dataset/.csv\""
   ]
  },
  {
   "cell_type": "code",
   "execution_count": 2,
   "metadata": {
    "collapsed": false
   },
   "outputs": [
    {
     "name": "stdout",
     "output_type": "stream",
     "text": [
      "(29118021, 5)\n",
      "             x       y  accuracy    time    place_id\n",
      "row_id                                              \n",
      "0       0.7941  9.0809        54  470702  8523065625\n",
      "1       5.9567  4.7968        13  186555  1757726713\n",
      "2       8.3078  7.0407        74  322648  1137537235\n",
      "(3, 5)\n"
     ]
    }
   ],
   "source": [
    "train = pd.read_csv(train_path, usecols=['row_id','x','y','accuracy','time','place_id'], index_col = 0)\n",
    "#test = pd.read_csv(test_path, usecols=['row_id','x','y','time'], index_col = 0)\n",
    "print np.shape(train)\n",
    "#print np.shape(test)\n",
    "print train[:3]\n",
    "#print test[:3]\n",
    "print np.shape(train[:3])"
   ]
  },
  {
   "cell_type": "code",
   "execution_count": 5,
   "metadata": {
    "collapsed": false
   },
   "outputs": [
    {
     "name": "stdout",
     "output_type": "stream",
     "text": [
      "4.34068063958 6.25836810461\n",
      "4.3407 6.3406 6.2584 8.2583 (1169664, 5)\n",
      "4.3407 6.3406 6.2584 8.2583 (1000000, 5)\n",
      "1.24154120273 2.03933308094\n",
      "1.2416 3.2415 2.0394 4.0393 (1190995, 5)\n",
      "1.2416 3.2415 2.0394 4.0393 (1000000, 5)\n",
      "2.90024314959 2.16701270801\n",
      "2.9003 4.9002 2.1671 4.167 (1177174, 5)\n",
      "2.9003 4.9002 2.1671 4.167 (1000000, 5)\n",
      "2.75997996016 5.91521240977\n",
      "2.76 4.7599 5.9153 7.9152 (1164405, 5)\n",
      "2.76 4.7599 5.9153 7.9152 (1000000, 5)\n",
      "1.83221832591 0.383126191982\n",
      "1.8323 3.8322 0.3832 2.3831 (1193202, 5)\n",
      "1.8323 3.8322 0.3832 2.3831 (1000000, 5)\n",
      "0.978397019442 6.00060820998\n",
      "0.9784 2.9783 6.0007 8.0006 (1177874, 5)\n",
      "0.9784 2.9783 6.0007 8.0006 (1000000, 5)\n",
      "2.78032052083 4.81566339894\n",
      "2.7804 4.7803 4.8157 6.8156 (1175482, 5)\n",
      "2.7804 4.7803 4.8157 6.8156 (1000000, 5)\n",
      "4.24705907393 6.92127836272\n",
      "4.2471 6.247 6.9213 8.9212 (1196298, 5)\n",
      "4.2471 6.247 6.9213 8.9212 (1000000, 5)\n",
      "6.05361447344 5.13703096599\n",
      "6.0537 8.0536 5.1371 7.137 (1194410, 5)\n",
      "6.0537 8.0536 5.1371 7.137 (1000000, 5)\n"
     ]
    }
   ],
   "source": [
    "# randomly blocks 2km * 2km\n",
    "t=0\n",
    "block_size = 2.0\n",
    "for i in range(9):\n",
    "    x_loc = np.random.uniform(0,7)\n",
    "    y_loc = np.random.uniform(0,7)\n",
    "    print x_loc, y_loc\n",
    "    subset = train[(train['x'] >=x_loc )&(train['x']<(x_loc+block_size)) & (train['y']>=y_loc)&(train['y']<(y_loc+block_size))]\n",
    "    print np.min(subset['x']), np.max(subset['x']),np.min(subset['y']), np.max(subset['y']), np.shape(subset)\n",
    "    subset_sample = subset.sample(n=1000000)\n",
    "    print np.min(subset_sample['x']), np.max(subset_sample['x']),np.min(subset_sample['y']), np.max(subset_sample['y']), np.shape(subset_sample)\n",
    "    string = 'subset%s.csv' % i\n",
    "    t+=1\n",
    "    subset_sample.to_csv(string)"
   ]
  },
  {
   "cell_type": "code",
   "execution_count": 7,
   "metadata": {
    "collapsed": true
   },
   "outputs": [],
   "source": [
    "place  = train['place_id'].value_counts()"
   ]
  },
  {
   "cell_type": "code",
   "execution_count": 11,
   "metadata": {
    "collapsed": false
   },
   "outputs": [
    {
     "data": {
      "text/plain": [
       "8772469670    1849\n",
       "1623394281    1802\n",
       "1308450003    1757\n",
       "4823777529    1738\n",
       "9586338177    1718\n",
       "9129780742    1716\n",
       "9544215131    1702\n",
       "5351837004    1699\n",
       "4638096372    1699\n",
       "8610202964    1693\n",
       "6051554924    1689\n",
       "7363774279    1689\n",
       "8607353836    1686\n",
       "8336299754    1683\n",
       "5204012807    1680\n",
       "7230349735    1676\n",
       "7985287621    1673\n",
       "4371034975    1673\n",
       "4993591840    1672\n",
       "7348940462    1670\n",
       "7698408658    1669\n",
       "5971252160    1668\n",
       "1500208175    1667\n",
       "8842957841    1661\n",
       "9919909729    1660\n",
       "9903336130    1659\n",
       "6909189260    1658\n",
       "1628743555    1648\n",
       "4113278218    1644\n",
       "3659348746    1631\n",
       "              ... \n",
       "5723178213       1\n",
       "8770284658       1\n",
       "9684688654       1\n",
       "1008054483       1\n",
       "2150524266       1\n",
       "5293934773       1\n",
       "1705380213       1\n",
       "9663369977       1\n",
       "3266541302       1\n",
       "5081250759       1\n",
       "1474802253       1\n",
       "6494133525       1\n",
       "8945287729       1\n",
       "8806200160       1\n",
       "3285347166       1\n",
       "7226358437       1\n",
       "1232113414       1\n",
       "5714851113       1\n",
       "4121531422       1\n",
       "9200831582       1\n",
       "4952760562       1\n",
       "7395434650       1\n",
       "1676184117       1\n",
       "7221587826       1\n",
       "1140330554       1\n",
       "7829906023       1\n",
       "1396615631       1\n",
       "6155645899       1\n",
       "1613164392       1\n",
       "1092000632       1\n",
       "Name: place_id, dtype: int64"
      ]
     },
     "execution_count": 11,
     "metadata": {},
     "output_type": "execute_result"
    }
   ],
   "source": [
    "place"
   ]
  },
  {
   "cell_type": "code",
   "execution_count": null,
   "metadata": {
    "collapsed": true
   },
   "outputs": [],
   "source": []
  }
 ],
 "metadata": {
  "kernelspec": {
   "display_name": "Python 2",
   "language": "python",
   "name": "python2"
  },
  "language_info": {
   "codemirror_mode": {
    "name": "ipython",
    "version": 2
   },
   "file_extension": ".py",
   "mimetype": "text/x-python",
   "name": "python",
   "nbconvert_exporter": "python",
   "pygments_lexer": "ipython2",
   "version": "2.7.11"
  }
 },
 "nbformat": 4,
 "nbformat_minor": 0
}
