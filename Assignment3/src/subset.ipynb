{
 "cells": [
  {
   "cell_type": "code",
   "execution_count": 1,
   "metadata": {
    "collapsed": false
   },
   "outputs": [
    {
     "name": "stderr",
     "output_type": "stream",
     "text": [
      "/Users/ludai/anaconda/lib/python2.7/site-packages/matplotlib/font_manager.py:273: UserWarning: Matplotlib is building the font cache using fc-list. This may take a moment.\n",
      "  warnings.warn('Matplotlib is building the font cache using fc-list. This may take a moment.')\n"
     ]
    }
   ],
   "source": [
    "from sklearn.neighbors import NearestNeighbors\n",
    "import numpy as np\n",
    "import csv\n",
    "import pandas as pd\n",
    "import matplotlib.pyplot as plt\n",
    "train_path = \"/Users/ludai/Downloads/train.csv\"\n",
    "test_path = \"/Users/ludai/Downloads/test.csv\""
   ]
  },
  {
   "cell_type": "code",
   "execution_count": 7,
   "metadata": {
    "collapsed": false
   },
   "outputs": [
    {
     "name": "stdout",
     "output_type": "stream",
     "text": [
      "(29118021, 4)\n",
      "(8607230, 3)\n",
      "             x       y    time    place_id\n",
      "row_id                                    \n",
      "0       0.7941  9.0809  470702  8523065625\n",
      "1       5.9567  4.7968  186555  1757726713\n",
      "2       8.3078  7.0407  322648  1137537235\n",
      "             x       y    time\n",
      "row_id                        \n",
      "0       0.1675  1.3608  930883\n",
      "1       7.3909  2.5301  893017\n",
      "2       8.0978  2.3473  976933\n",
      "(3, 4)\n"
     ]
    }
   ],
   "source": [
    "train = pd.read_csv(train_path, usecols=['row_id','x','y','time','place_id'], index_col = 0)\n",
    "test = pd.read_csv(test_path, usecols=['row_id','x','y','time'], index_col = 0)\n",
    "print np.shape(train)\n",
    "print np.shape(test)\n",
    "print train[:3]\n",
    "print test[:3]\n",
    "print np.shape(train[:3])"
   ]
  },
  {
   "cell_type": "code",
   "execution_count": 49,
   "metadata": {
    "collapsed": false
   },
   "outputs": [
    {
     "name": "stdout",
     "output_type": "stream",
     "text": [
      "6.02402181047 5.6763392109\n",
      "6.0241 9.024 5.6764 8.6763 (2714871, 4)\n",
      "2.84279206416 3.98144964978\n",
      "2.8428 5.8427 3.9815 6.9814 (2670608, 4)\n",
      "3.89996741501 2.56218371957\n",
      "3.9 6.8999 2.5622 5.5621 (2653824, 4)\n",
      "2.00391554455 4.12415079996\n",
      "2.004 5.0039 4.1242 7.1241 (2611468, 4)\n",
      "0.461024714089 2.29888431469\n",
      "0.4611 3.461 2.2989 5.2988 (2636517, 4)\n",
      "6.65254910694 4.55760606669\n",
      "6.6526 9.6525 4.5577 7.5576 (2650380, 4)\n",
      "2.76974766415 1.78275918957\n",
      "2.7698 5.7697 1.7828 4.7827 (2675185, 4)\n",
      "1.44767202598 2.53773997886\n",
      "1.4477 4.4476 2.5378 5.5377 (2646969, 4)\n",
      "5.14005616065 0.0358166230506\n",
      "5.1401 8.14 0.0359 3.0358 (2662402, 4)\n"
     ]
    }
   ],
   "source": [
    "\n",
    "for i in range(9):\n",
    "    x_loc = np.random.uniform(0,7)\n",
    "    y_loc = np.random.uniform(0,7)\n",
    "    print x_loc, y_loc\n",
    "    subset = train[(train['x'] >=x_loc )&(train['x']<(x_loc+3.0)) & (train['y']>=y_loc)&(train['y']<(y_loc+3.0))]\n",
    "    print np.min(subset['x']), np.max(subset['x']),np.min(subset['y']), np.max(subset['y']), np.shape(subset)\n",
    "    string = 'subset%s.csv' % i\n",
    "    t+=1\n",
    "    subset.to_csv(string)\n",
    "\n"
   ]
  },
  {
   "cell_type": "code",
   "execution_count": 9,
   "metadata": {
    "collapsed": false
   },
   "outputs": [
    {
     "name": "stdout",
     "output_type": "stream",
     "text": [
      "(2634781, 4)\n",
      "2.9999\n"
     ]
    }
   ],
   "source": []
  },
  {
   "cell_type": "code",
   "execution_count": null,
   "metadata": {
    "collapsed": true
   },
   "outputs": [],
   "source": [
    "\n",
    "    "
   ]
  }
 ],
 "metadata": {
  "kernelspec": {
   "display_name": "Python 2",
   "language": "python",
   "name": "python2"
  },
  "language_info": {
   "codemirror_mode": {
    "name": "ipython",
    "version": 2
   },
   "file_extension": ".py",
   "mimetype": "text/x-python",
   "name": "python",
   "nbconvert_exporter": "python",
   "pygments_lexer": "ipython2",
   "version": "2.7.11"
  }
 },
 "nbformat": 4,
 "nbformat_minor": 0
}
