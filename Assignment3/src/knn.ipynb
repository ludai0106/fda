{
 "cells": [
  {
   "cell_type": "code",
   "execution_count": 41,
   "metadata": {
    "collapsed": false
   },
   "outputs": [],
   "source": [
    "import numpy as np\n",
    "import pandas as pd\n",
    "from sklearn import preprocessing\n",
    "from sklearn.neighbors import KNeighborsClassifier\n",
    "import matplotlib.pyplot as plt"
   ]
  },
  {
   "cell_type": "code",
   "execution_count": 14,
   "metadata": {
    "collapsed": false
   },
   "outputs": [],
   "source": [
    "# def grid(data_path):\n",
    "    \n",
    "\n",
    "# def process_data(data_path):\n",
    "    \n",
    "#     min_x = np.min(data['x'])\n",
    "#     min_y = np.min(data['y'])\n",
    "#     data = data[(data['x'] < (min_x + 0.5)) & (data['y'] < (min_y + 0.5)) ]\n",
    "#     print np.shape(data)\n",
    "#     print np.min(data['x']),np.min(data['y']), np.max(data['x']),np.max(data['y'])\n",
    "#     place = data['place_id'].value_counts()\n",
    "#     print np.shape(place)\n",
    "#     print place\n",
    "#     count = 0 \n",
    "#     for each in place:\n",
    "#         if each < 3:\n",
    "#             count+=1\n",
    "#     print count\n",
    "#     print \n",
    "\n",
    "\n"
   ]
  },
  {
   "cell_type": "code",
   "execution_count": null,
   "metadata": {
    "collapsed": false
   },
   "outputs": [
    {
     "name": "stdout",
     "output_type": "stream",
     "text": [
      "(1000000, 8)\n",
      "(16647,)\n",
      "(1000000,)\n",
      "(984868, 8) (689408, 8) (295460, 8)\n"
     ]
    }
   ],
   "source": [
    "if __name__ == '__main__':\n",
    "    base_path = \"/Users/ludai/Desktop/Github/fda/Assignment3/src/\"\n",
    "    x_size = 0.5\n",
    "    y_size = 0.5\n",
    "    #fw = [500, 1000, 4, 3, 1./22., 2, 10] #feature weights\n",
    "    fw = [1, 1, 1, 1, 1, 1, 1]\n",
    "    th = 5 #Keeping place_ids with more than th samples.\n",
    "    for i in range(1):\n",
    "        string  =  'subset%s.csv' % i\n",
    "        data_path = base_path + string\n",
    "        #print data_path\n",
    "        df = pd.read_csv(data_path, usecols=['row_id','x','y','time','place_id'], index_col = 0)\n",
    "        initial_date = np.datetime64('2014-01-01T01:01', dtype='datetime64[m]') \n",
    "        d_times = pd.DatetimeIndex(initial_date + np.timedelta64(t, 'm') for t in data.time.values)    \n",
    "        df['hour'] = d_times.hour * fw[2]\n",
    "        df['weekday'] = d_times.weekday * fw[3]\n",
    "        df['day'] = (d_times.dayofyear * fw[4]).astype(int)\n",
    "        df['month'] = d_times.month * fw[5]\n",
    "        df['year'] = (d_times.year - 2013) * fw[6]\n",
    "        df = df.drop(['time'], axis=1) \n",
    "        df.x = df.x.values * fw[0]\n",
    "        df.y = df.y.values * fw[1]\n",
    "        print np.shape(df)\n",
    "        place_counts = df.place_id.value_counts()\n",
    "        print np.shape(place_counts)\n",
    "        #drop rows with place_id which has samples < th\n",
    "        mask = (place_counts[df.place_id.values] >= th).values\n",
    "        print np.shape(mask)\n",
    "        df = df.loc[mask]\n",
    "        #split data into training and testing sets\n",
    "        df_train = df.sample(frac=0.7)\n",
    "        df_test = df.loc[~df.index.isin(df_train.index)]\n",
    "        print np.shape(df), np.shape(df_train), np.shape(df_test)\n",
    "        \n",
    "        #preparing training sets\n",
    "        le = preprocessing.LabelEncoder()\n",
    "        train_Y = le.fit_transform(df_train['place_id'].values)\n",
    "        #print train_Y\n",
    "        train_X = df_train.drop(['place_id'], axis=1).values.astype(int)\n",
    "        #print train_X\n",
    "     \n",
    "        knn_clf = KNeighborsClassifier(n_neighbors=25, weights='distance', metric='manhattan')\n",
    "        knn_clf.fit(train_X, train_Y)\n",
    "        \n",
    "        #preparing testing sets\n",
    "        test_place = df_test['place_id'].values\n",
    "        test  =  df_test.drop(['place_id'], axis =1 ).values.astype(int)\n",
    "        #print np.shape(test_place), np.shape(test)\n",
    "    \n",
    "        test_pred = knn_clf.predict(test)\n",
    "        print test_pred\n",
    "        labels = le.inverse_transform(test_pred)\n",
    "        print labels\n",
    "        print np.shape(test_pred), np.shape(test_place)\n",
    "        count = 0\n",
    "        total = np.shape(labels)[0]"
   ]
  },
  {
   "cell_type": "code",
   "execution_count": 55,
   "metadata": {
    "collapsed": false
   },
   "outputs": [
    {
     "name": "stdout",
     "output_type": "stream",
     "text": [
      "160219 0.542269681175\n"
     ]
    }
   ],
   "source": [
    "        for i in range(total):\n",
    "            if labels[i]==test_place[i]:\n",
    "                count+=1\n",
    "        print count, float(count)/float(total)"
   ]
  },
  {
   "cell_type": "code",
   "execution_count": null,
   "metadata": {
    "collapsed": true
   },
   "outputs": [],
   "source": []
  }
 ],
 "metadata": {
  "kernelspec": {
   "display_name": "Python 2",
   "language": "python",
   "name": "python2"
  },
  "language_info": {
   "codemirror_mode": {
    "name": "ipython",
    "version": 2
   },
   "file_extension": ".py",
   "mimetype": "text/x-python",
   "name": "python",
   "nbconvert_exporter": "python",
   "pygments_lexer": "ipython2",
   "version": "2.7.11"
  }
 },
 "nbformat": 4,
 "nbformat_minor": 0
}
