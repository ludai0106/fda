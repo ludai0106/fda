{
 "cells": [
  {
   "cell_type": "code",
   "execution_count": 2,
   "metadata": {
    "collapsed": false
   },
   "outputs": [
    {
     "name": "stderr",
     "output_type": "stream",
     "text": [
      "/Users/ludai/anaconda/lib/python2.7/site-packages/matplotlib/font_manager.py:273: UserWarning: Matplotlib is building the font cache using fc-list. This may take a moment.\n",
      "  warnings.warn('Matplotlib is building the font cache using fc-list. This may take a moment.')\n"
     ]
    }
   ],
   "source": [
    "import numpy as np\n",
    "import pandas as pd\n",
    "from sklearn import preprocessing\n",
    "from sklearn.neighbors import KNeighborsClassifier\n",
    "import matplotlib.pyplot as plt"
   ]
  },
  {
   "cell_type": "code",
   "execution_count": null,
   "metadata": {
    "collapsed": false
   },
   "outputs": [
    {
     "name": "stdout",
     "output_type": "stream",
     "text": [
      "(1188294, 10)\n",
      "(17039,)\n",
      "(1188294,)\n",
      "(1172692, 10) (972692, 10) (200000, 10)\n"
     ]
    }
   ],
   "source": [
    "if __name__ == '__main__':\n",
    "    base_path = \"/Users/ludai/Desktop/Github/fda/Assignment3/src/\"\n",
    "    x_size = 0.5\n",
    "    y_size = 0.5\n",
    "    fw = [500, 1000, 5, 4, 1./22., 2, 8,1] #feature weights\n",
    "    #fw = [1, 1, 1, 1, 1, 1, 1]\n",
    "    th = 5 #Keeping place_ids with more than th samples.\n",
    "    accuracy = np.zeros(3, dtype=np.float)\n",
    "    for index in range(1):\n",
    "        string  =  'subset%s.csv' % 2\n",
    "        data_path = base_path + string\n",
    "        #print data_path\n",
    "        df = pd.read_csv(data_path, usecols=['row_id','x','y','accuracy','time','place_id'], index_col = 0)\n",
    "        initial_date = np.datetime64('2014-01-01T01:01', dtype='datetime64[m]') \n",
    "        d_times = pd.DatetimeIndex(initial_date + np.timedelta64(t, 'm') for t in df.time.values)\n",
    "        #get info from time field\n",
    "        df['hour'] = d_times.hour * fw[2]\n",
    "        df['weekday'] = d_times.weekday * fw[3]\n",
    "        df['day'] = (d_times.dayofyear * fw[4]).astype(int)\n",
    "        df['month'] = d_times.month * fw[5]\n",
    "        df['year'] = (d_times.year - 2013) * fw[6]\n",
    "        #df = df.drop(['time'], axis=1) \n",
    "        df.x = df.x.values * fw[0]\n",
    "        df.y = df.y.values * fw[1]\n",
    "        df.accuracy = df.accuracy * fw[7]\n",
    "        print np.shape(df)\n",
    "        place_counts = df.place_id.value_counts()\n",
    "        print np.shape(place_counts)\n",
    "        #drop rows with place_id which has samples < th\n",
    "        mask = (place_counts[df.place_id.values] >= th).values\n",
    "        print np.shape(mask)\n",
    "        df = df.loc[mask]\n",
    "        \n",
    "        #split data into training and testing sets\n",
    "        #df_train = df.sample(frac=0.7)\n",
    "        #df_test = df.loc[~df.index.isin(df_train.index)]\n",
    "        df_test = df[df['time'] > 600000].sample(n=200000)\n",
    "        df_train = df.loc[~df.index.isin(df_test.index)]\n",
    "        \n",
    "        print np.shape(df), np.shape(df_train), np.shape(df_test)\n",
    "        \n",
    "        #preparing training sets\n",
    "        le = preprocessing.LabelEncoder()\n",
    "        train_Y = le.fit_transform(df_train['place_id'].values)\n",
    "        #print train_Y\n",
    "        train_X = df_train.drop(['place_id','time'], axis=1).values.astype(int)\n",
    "        #print train_X\n",
    "     \n",
    "        knn_clf = KNeighborsClassifier(n_neighbors=10, weights='distance', metric='manhattan')\n",
    "        knn_clf.fit(train_X, train_Y)\n",
    "        \n",
    "        #preparing testing sets\n",
    "        truth = df_test['place_id'].values\n",
    "        test  =  df_test.drop(['place_id','time'], axis =1 ).values.astype(int)\n",
    "        #print np.shape(test_place), np.shape(test)\n",
    "    \n",
    "        knn_pred = knn_clf.predict(test)\n",
    "        print knn_pred\n",
    "        pred = le.inverse_transform(knn_pred)\n",
    "        print pred\n",
    "        print np.shape(pred), np.shape(truth)\n",
    "        #count = 0\n",
    "        #total = np.shape(labels)[0]\n",
    "        correct = (pred == truth)\n",
    "#         for i in range(total):\n",
    "#             if labels[i]==test_place[i]:\n",
    "#                 count+=1\n",
    "        #print count, float(count)/float(total)\n",
    "        #accuracy[index] = (float(count)/float(total))\n",
    "        print correct"
   ]
  },
  {
   "cell_type": "code",
   "execution_count": 72,
   "metadata": {
    "collapsed": false
   },
   "outputs": [
    {
     "name": "stdout",
     "output_type": "stream",
     "text": [
      "[ 0.5432512   0.39670519  0.39515679]\n"
     ]
    }
   ],
   "source": [
    "     print accuracy"
   ]
  },
  {
   "cell_type": "code",
   "execution_count": 34,
   "metadata": {
    "collapsed": false
   },
   "outputs": [
    {
     "name": "stdout",
     "output_type": "stream",
     "text": [
      "[2325062540 1783141247 6684601529 ..., 6315361820 3305662426 5215276306]\n",
      "(200000,) (200000,)\n",
      "[ True  True False ...,  True  True  True]\n",
      "0.47611\n"
     ]
    }
   ],
   "source": [
    "pred = le.inverse_transform(knn_pred)\n",
    "print pred\n",
    "print np.shape(pred), np.shape(truth)\n",
    "#count = 0\n",
    "#total = np.shape(labels)[0]\n",
    "correct = (pred == truth)\n",
    "#         for i in range(total):\n",
    "#             if labels[i]==test_place[i]:\n",
    "#                 count+=1\n",
    "#print count, float(count)/float(total)\n",
    "#accuracy[index] = (float(count)/float(total))\n",
    "print correct\n",
    "print np.mean(correct)"
   ]
  },
  {
   "cell_type": "code",
   "execution_count": null,
   "metadata": {
    "collapsed": true
   },
   "outputs": [],
   "source": []
  }
 ],
 "metadata": {
  "kernelspec": {
   "display_name": "Python 2",
   "language": "python",
   "name": "python2"
  },
  "language_info": {
   "codemirror_mode": {
    "name": "ipython",
    "version": 2
   },
   "file_extension": ".py",
   "mimetype": "text/x-python",
   "name": "python",
   "nbconvert_exporter": "python",
   "pygments_lexer": "ipython2",
   "version": "2.7.11"
  }
 },
 "nbformat": 4,
 "nbformat_minor": 0
}
