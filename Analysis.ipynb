{
 "cells": [
  {
   "cell_type": "code",
   "execution_count": null,
   "metadata": {
    "collapsed": false
   },
   "outputs": [],
   "source": [
    "%matplotlib inline\n",
    "import os, sys, copy, time, datetime, pprint, logging, warnings\n",
    "from collections import Counter\n",
    "import pandas as pd, numpy, numpy as np, scipy, scipy as sp, scipy.signal\n",
    "# Plotting\n",
    "import matplotlib.pyplot as plt\n",
    "from mpl_toolkits.mplot3d import Axes3D\n",
    "from bokeh.plotting import figure, show, output_notebook\n",
    "import seaborn as sns\n",
    "\n",
    "\n",
    "sns.set(color_codes=True)\n"
   ]
  },
  {
   "cell_type": "code",
   "execution_count": null,
   "metadata": {
    "collapsed": false
   },
   "outputs": [],
   "source": [
    "\n",
    "plt.rcParams['figure.figsize'] = (15.0, 15.0)\n",
    "\n",
    "print('Reading train data')\n",
    "df_train = pd.read_csv('dataset-fb/train.csv')\n",
    "\n",
    "print('\\nSize of training data: ' + str(df_train.shape))\n",
    "print('Columns:' + str(df_train.columns.values))\n",
    "print('Number of places: ' + str(len(list(set(df_train['place_id'].values.tolist())))))\n",
    "print('\\n')"
   ]
  },
  {
   "cell_type": "code",
   "execution_count": null,
   "metadata": {
    "collapsed": false
   },
   "outputs": [],
   "source": [
    "places_by_frequency = df_train.groupby('place_id')['place_id'].agg('count').sort_values(ascending=False).index.tolist()\n"
   ]
  },
  {
   "cell_type": "code",
   "execution_count": null,
   "metadata": {
    "collapsed": false
   },
   "outputs": [],
   "source": [
    "fig = plt.figure(figsize=(15,5))\n",
    "_d = list(place_counts.values())\n",
    "plt.hist(_d, bins=bins)\n",
    "plt.xlabel('place_ids')\n",
    "plt.ylabel('Frequency')\n",
    "plt.show()"
   ]
  },
  {
   "cell_type": "code",
   "execution_count": null,
   "metadata": {
    "collapsed": false
   },
   "outputs": [],
   "source": [
    "mu, sigma = 100, 15\n",
    "x = mu + sigma*np.random.randn(10000)\n",
    "# the histogram of the data\n",
    "n, bins, patches = plt.hist(x, 50, normed=1, facecolor='green', alpha=0.75)\n",
    "\n",
    "# add a 'best fit' line\n",
    "y = mlab.normpdf( bins, mu, sigma)\n",
    "l = plt.plot(bins, y, 'r--', linewidth=1, )\n",
    "plt.xlabel('Smarts')\n",
    "plt.ylabel('Probability')\n",
    "plt.title(r'$\\mathrm{Histogram\\ of\\ IQ:}\\ \\mu=100,\\ \\sigma=15$')\n",
    "plt.axis([40, 160, 0, 0.03])\n",
    "plt.grid(True)\n",
    "\n",
    "plt.show()"
   ]
  },
  {
   "cell_type": "code",
   "execution_count": null,
   "metadata": {
    "collapsed": false
   },
   "outputs": [],
   "source": [
    "\n",
    "# Compute the histogram of the event time\n",
    "time = df_train['time']\n",
    "hist = hist = np.histogram(time,5000)\n",
    "\n",
    "# To know the unit definition of Time\n",
    "# we can look into the frequency structure of the histogram\n",
    "hist_fft = np.absolute(np.fft.fft(hist[0]))\n"
   ]
  },
  {
   "cell_type": "code",
   "execution_count": null,
   "metadata": {
    "collapsed": false
   },
   "outputs": [],
   "source": [
    "%matplotlib notebook\n",
    "fig = plt.figure(figsize=(15,5))\n",
    "plt.plot(hist_fft)\n",
    "plt.xlim([0,2500])\n",
    "plt.ylim([0,1e6])\n",
    "plt.title('Fourrier Transform of autocorrelation of time histograms')\n",
    "plt.xlabel('1/T')\n",
    "plt.grid(True)\n",
    "# plt.show()\n"
   ]
  },
  {
   "cell_type": "code",
   "execution_count": null,
   "metadata": {
    "collapsed": false
   },
   "outputs": [],
   "source": [
    "time = df_train[df_train['place_id']==8772469670]['time']\n",
    "time.max()/451"
   ]
  },
  {
   "cell_type": "code",
   "execution_count": null,
   "metadata": {
    "collapsed": false
   },
   "outputs": [],
   "source": [
    "%matplotlib inline\n",
    "sns.pairplot(sdf)"
   ]
  },
  {
   "cell_type": "code",
   "execution_count": null,
   "metadata": {
    "collapsed": false
   },
   "outputs": [],
   "source": [
    "hfft=[]\n",
    "for place in [8772469670, 1623394281, 1308450003, 4823777529]:\n",
    "    time = df_train[df_train['place_id']==place]['time']\n",
    "    hist = np.histogram(time,5000)\n",
    "    hfft.append(np.absolute(np.fft.fft(hist[0])))\n"
   ]
  },
  {
   "cell_type": "code",
   "execution_count": null,
   "metadata": {
    "collapsed": true
   },
   "outputs": [],
   "source": [
    "accuracy = df_train['accuracy']\n",
    "x =  df_train['x']\n",
    "y =  df_train['y']"
   ]
  },
  {
   "cell_type": "code",
   "execution_count": null,
   "metadata": {
    "collapsed": false
   },
   "outputs": [],
   "source": [
    "%install_ext https://raw.github.com/cpcloud/ipython-autotime/master/autotime.py"
   ]
  },
  {
   "cell_type": "code",
   "execution_count": null,
   "metadata": {
    "collapsed": false
   },
   "outputs": [],
   "source": [
    "sx = x[:300000]\n",
    "sy= y[:300000]\n",
    "with sns.axes_style(\"white\"):\n",
    "    sns.jointplot(x=sx, y=sy, size=12, kind=\"hex\");"
   ]
  },
  {
   "cell_type": "code",
   "execution_count": null,
   "metadata": {
    "collapsed": false
   },
   "outputs": [],
   "source": [
    "# from matplotlib.colors import LogNorm\n",
    "fig = plt.figure(figsize=(15,10))\n",
    "bins = 40\n",
    "while bins <=160:\n",
    "    plt.hist2d(x, y, bins=bins, normed=)\n",
    "#     plt.colorbar()\n",
    "    plt.title('x and y location histogram - ' + str(bins) + ' bins')\n",
    "    plt.xlabel('x')\n",
    "    plt.ylabel('y')\n",
    "    plt.show()\n",
    "    bins = bins * 2\n",
    "    break"
   ]
  },
  {
   "cell_type": "code",
   "execution_count": null,
   "metadata": {
    "collapsed": false
   },
   "outputs": [],
   "source": [
    "df_small = pd.read_csv('./data/subset0.csv')\n",
    "\n",
    "import numpy as np\n",
    "from six.moves import zip\n",
    "\n",
    "from bokeh.plotting import figure, show, output_file\n",
    "\n",
    "radii = np.random.random(size=N) * 1.5\n",
    "colors = [\"#%02x%02x%02x\" % (r, g, 150) for r, g in zip(np.floor(50+2*x), np.floor(30+2*y))]\n",
    "\n",
    "TOOLS=\"resize,crosshair,pan,wheel_zoom,box_zoom,reset,tap,previewsave,box_select,poly_select,lasso_select\"\n",
    "\n",
    "output_file(\"color_scatter.html\", title=\"color_scatter.py example\")\n",
    "\n",
    "p = figure(tools=TOOLS)\n",
    "p.scatter(x, y, radius=radii, fill_color=colors, fill_alpha=0.6, line_color=None)\n",
    "\n",
    "show(p)  # open a browser./"
   ]
  },
  {
   "cell_type": "code",
   "execution_count": null,
   "metadata": {
    "collapsed": false
   },
   "outputs": [],
   "source": [
    "fig = plt.figure(figsize=(15,5))\n",
    "n, bins, patches = plt.hist(accuracy, 250)\n",
    "plt.title('Location Accuracy distribution')\n",
    "plt.xlabel('Accuracy')\n",
    "plt.ylabel('Frequency')\n",
    "plt.show()"
   ]
  },
  {
   "cell_type": "code",
   "execution_count": null,
   "metadata": {
    "collapsed": false
   },
   "outputs": [],
   "source": [
    "def fft_plot(title, func, ax, fontsize=12):\n",
    "     ax.plot(func)\n",
    "     ax.set_title(title, fontsize=fontsize)\n",
    "\n",
    "\n",
    "fig = plt.figure(figsize=(15,5))\n",
    "fig, ((ax1, ax2), (ax3, ax4)) = plt.subplots(nrows=2, ncols=2, sharex=True, sharey=True, figsize=(15,5))\n",
    "\n",
    "\n",
    "plt.xlim([0,2500])\n",
    "plt.xlabel('1/T')\n",
    "plt.ylabel('')\n",
    "fft_plot(8772469670, hfft[0], ax1)\n",
    "fft_plot(1623394281, hfft[1], ax2)\n",
    "fft_plot(1308450003, hfft[2], ax3)\n",
    "fft_plot(4823777529, hfft[3], ax4)\n"
   ]
  },
  {
   "cell_type": "code",
   "execution_count": null,
   "metadata": {
    "collapsed": false
   },
   "outputs": [],
   "source": [
    "\n",
    "at = time = sdf[sdf['place_id']==8772469670]['time']"
   ]
  },
  {
   "cell_type": "code",
   "execution_count": null,
   "metadata": {
    "collapsed": false
   },
   "outputs": [],
   "source": [
    "\n",
    "ahf.head()\n",
    "at.max()\n"
   ]
  },
  {
   "cell_type": "code",
   "execution_count": null,
   "metadata": {
    "collapsed": false
   },
   "outputs": [],
   "source": [
    "1440/60"
   ]
  },
  {
   "cell_type": "code",
   "execution_count": null,
   "metadata": {
    "collapsed": false
   },
   "outputs": [],
   "source": [
    "\n",
    "print('group by place_id and get count')\n",
    "places = df_train[['place_id', 'time']].groupby('place_id').count()\n",
    "places.rename(columns={'time': 'count'}, inplace=True)\n"
   ]
  }
 ],
 "metadata": {
  "kernelspec": {
   "display_name": "Python 3",
   "language": "python",
   "name": "python3"
  },
  "language_info": {
   "codemirror_mode": {
    "name": "ipython",
    "version": 3
   },
   "file_extension": ".py",
   "mimetype": "text/x-python",
   "name": "python",
   "nbconvert_exporter": "python",
   "pygments_lexer": "ipython3",
   "version": "3.5.1"
  }
 },
 "nbformat": 4,
 "nbformat_minor": 0
}
